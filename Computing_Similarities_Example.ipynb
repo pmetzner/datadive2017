{
 "cells": [
  {
   "cell_type": "markdown",
   "metadata": {},
   "source": [
    "# Computing Similarities: An example\n",
    "\n",
    "The purpose of this notebook is to load word counts and compute cosine similarities. We will only load a few files."
   ]
  },
  {
   "cell_type": "code",
<<<<<<< HEAD
   "execution_count": 2,
=======
   "execution_count": 1,
>>>>>>> switch to env var, loop through texts
   "metadata": {
    "collapsed": false,
    "deletable": true,
    "editable": true
   },
   "outputs": [],
   "source": [
<<<<<<< HEAD
=======
    "import os \n",
>>>>>>> switch to env var, loop through texts
    "from os import listdir\n",
    "\n",
    "from gensim import corpora, models, similarities\n",
    "import pandas as pd\n",
    "import re "
   ]
  },
  {
   "cell_type": "code",
<<<<<<< HEAD
   "execution_count": 3,
   "metadata": {
    "collapsed": true
   },
   "outputs": [],
   "source": [
    "home = '/Users/aliciahickey/Desktop/master/texts/'"
=======
   "execution_count": 2,
   "metadata": {
    "collapsed": false
   },
   "outputs": [],
   "source": [
    "home = os.environ['DATADIVE']"
>>>>>>> switch to env var, loop through texts
   ]
  },
  {
   "cell_type": "code",
<<<<<<< HEAD
   "execution_count": 4,
=======
   "execution_count": 3,
>>>>>>> switch to env var, loop through texts
   "metadata": {
    "collapsed": false,
    "deletable": true,
    "editable": true
   },
   "outputs": [
    {
     "data": {
      "text/plain": [
       "['.DS_Store',\n",
<<<<<<< HEAD
       " 'extracted-texts',\n",
       " 'extracted-texts.tar',\n",
=======
       " 'extracted-texts.tar',\n",
       " 'term-counts-min-1.tar',\n",
>>>>>>> switch to env var, loop through texts
       " 'term-id-counts-min-2',\n",
       " 'term-id-counts-min-2.tar',\n",
       " 'termcounts-min-1.tar',\n",
       " 'termcounts-min-2-term-ids-map.txt',\n",
       " 'termcounts-min-2.tar',\n",
       " 'termcounts-min-3.tar',\n",
<<<<<<< HEAD
       " 'termcounts-min-5',\n",
=======
>>>>>>> switch to env var, loop through texts
       " 'termcounts-min-5.tar',\n",
       " 'termcounts-min-6.tar']"
      ]
     },
<<<<<<< HEAD
     "execution_count": 4,
=======
     "execution_count": 3,
>>>>>>> switch to env var, loop through texts
     "metadata": {},
     "output_type": "execute_result"
    }
   ],
   "source": [
    "listdir(home)"
   ]
  },
  {
   "cell_type": "markdown",
   "metadata": {},
   "source": [
    "## Create a dictionary:"
   ]
  },
  {
   "cell_type": "code",
<<<<<<< HEAD
   "execution_count": 6,
=======
   "execution_count": 4,
>>>>>>> switch to env var, loop through texts
   "metadata": {
    "collapsed": false
   },
   "outputs": [],
   "source": [
    "def make_dict(dict_file='termcounts-min-2-term-ids-map.txt', data_folder=home):\n",
    "    \"\"\"Create dictionary of unique terms and their IDs.\"\"\"\n",
    "   \n",
    "    with open(data_folder + dict_file, 'r') as f:\n",
    "        wdic = {} \n",
    "        for row in f.readlines():\n",
    "            if len(row.split(',')) == 2:  # this get rid of rows with 3 values i.e. numbers\n",
    "                (value, key) = row.split(',')\n",
    "                value = re.match('\\D', value)\n",
    "                if value:\n",
    "                    if len(value.string) > 2:\n",
    "                        wdic[int(key.rstrip())] = value.string\n",
    "    return wdic"
   ]
  },
  {
   "cell_type": "code",
<<<<<<< HEAD
   "execution_count": 8,
   "metadata": {
    "collapsed": true
=======
   "execution_count": 5,
   "metadata": {
    "collapsed": false
>>>>>>> switch to env var, loop through texts
   },
   "outputs": [],
   "source": [
    "wdic = make_dict()"
   ]
  },
  {
   "cell_type": "code",
<<<<<<< HEAD
   "execution_count": 9,
=======
   "execution_count": 6,
>>>>>>> switch to env var, loop through texts
   "metadata": {
    "collapsed": false
   },
   "outputs": [
    {
     "data": {
      "text/plain": [
       "1324237"
      ]
     },
<<<<<<< HEAD
     "execution_count": 9,
=======
     "execution_count": 6,
>>>>>>> switch to env var, loop through texts
     "metadata": {},
     "output_type": "execute_result"
    }
   ],
   "source": [
    "len(wdic)"
   ]
  },
  {
   "cell_type": "markdown",
   "metadata": {},
   "source": [
    "## Create the corpus"
   ]
  },
  {
   "cell_type": "code",
<<<<<<< HEAD
   "execution_count": 10,
   "metadata": {
    "collapsed": true
=======
   "execution_count": 7,
   "metadata": {
    "collapsed": false
>>>>>>> switch to env var, loop through texts
   },
   "outputs": [],
   "source": [
    "corpus_texts = listdir(home + 'term-id-counts-min-2/')"
   ]
  },
  {
   "cell_type": "code",
<<<<<<< HEAD
   "execution_count": 45,
=======
   "execution_count": 8,
>>>>>>> switch to env var, loop through texts
   "metadata": {
    "collapsed": true
   },
   "outputs": [],
   "source": [
    "def transform_text(filename, word_dict=wdic):\n",
    "    \n",
    "    with open(filename, 'r') as f:\n",
    "\n",
    "        file = []  # initiate a list\n",
    "        for row in f.readlines():\n",
    "            if len(row.split(',')) == 2:  # this get rid of rows with 3 values i.e. numbers\n",
    "                row_val = row.split(',')\n",
    "                row_val[1] = int(row_val[1].rstrip())\n",
    "                row_val[0] = int(row_val[0])\n",
    "                file.append(tuple(row_val))\n",
    "    \n",
    "    text = [i for i in file if i[0] in word_dict]\n",
    "    \n",
    "    return text"
   ]
  },
  {
   "cell_type": "code",
<<<<<<< HEAD
   "execution_count": 49,
   "metadata": {
    "collapsed": false
   },
   "outputs": [],
   "source": [
    "text_0 = transform_text(home + 'term-id-counts-min-2/' + corpus_texts[1])"
   ]
  },
  {
   "cell_type": "code",
   "execution_count": 50,
   "metadata": {
    "collapsed": false
   },
   "outputs": [],
   "source": [
    "text_1 = transform_text(home + 'term-id-counts-min-2/' + corpus_texts[2])"
   ]
  },
  {
   "cell_type": "code",
   "execution_count": 59,
=======
   "execution_count": 10,
>>>>>>> switch to env var, loop through texts
   "metadata": {
    "collapsed": false
   },
   "outputs": [],
   "source": [
<<<<<<< HEAD
    "corpus = [text_0, text_1]"
=======
    "corpus = []\n",
    "for text in corpus_texts[:4]:\n",
    "    corpus.append(transform_text(home + 'term-id-counts-min-2/' + text))"
>>>>>>> switch to env var, loop through texts
   ]
  },
  {
   "cell_type": "code",
<<<<<<< HEAD
   "execution_count": 60,
=======
   "execution_count": 11,
>>>>>>> switch to env var, loop through texts
   "metadata": {
    "collapsed": true
   },
   "outputs": [],
   "source": [
    "tfidf = models.TfidfModel(corpus)"
   ]
  },
  {
   "cell_type": "code",
<<<<<<< HEAD
   "execution_count": 61,
=======
   "execution_count": 12,
>>>>>>> switch to env var, loop through texts
   "metadata": {
    "collapsed": false
   },
   "outputs": [],
   "source": [
    "corpus_tfidf = tfidf[corpus]"
   ]
  },
  {
   "cell_type": "code",
<<<<<<< HEAD
   "execution_count": 64,
=======
   "execution_count": 13,
>>>>>>> switch to env var, loop through texts
   "metadata": {
    "collapsed": false,
    "scrolled": false
   },
   "outputs": [],
   "source": [
    "# for doc in corpus_tfidf:\n",
    "#     print(doc)"
   ]
  },
  {
   "cell_type": "markdown",
   "metadata": {},
   "source": [
    "## Compute similarities:"
   ]
  },
  {
   "cell_type": "code",
<<<<<<< HEAD
   "execution_count": 65,
=======
   "execution_count": 14,
>>>>>>> switch to env var, loop through texts
   "metadata": {
    "collapsed": false
   },
   "outputs": [],
   "source": [
    "lsi = models.LsiModel(corpus, id2word=wdic, num_topics=2)\n",
    "index = similarities.MatrixSimilarity(lsi[corpus])"
   ]
  },
  {
   "cell_type": "code",
<<<<<<< HEAD
   "execution_count": 67,
=======
   "execution_count": 15,
>>>>>>> switch to env var, loop through texts
   "metadata": {
    "collapsed": true
   },
   "outputs": [],
   "source": [
<<<<<<< HEAD
    "vec_lsi = lsi[corpus[0]]"
=======
    "vec_lsi = lsi[corpus]"
>>>>>>> switch to env var, loop through texts
   ]
  },
  {
   "cell_type": "code",
<<<<<<< HEAD
   "execution_count": 68,
=======
   "execution_count": 18,
>>>>>>> switch to env var, loop through texts
   "metadata": {
    "collapsed": false
   },
   "outputs": [
    {
     "name": "stdout",
     "output_type": "stream",
     "text": [
<<<<<<< HEAD
      "[(0, 1.0), (1, 0.1939158)]\n"
=======
      "[(0, array([ 1.        ,  0.58858323,  0.28824052,  0.8828094 ], dtype=float32)), (1, array([ 0.58858317,  1.        ,  0.94377851,  0.89935482], dtype=float32)), (2, array([ 0.28824052,  0.94377851,  0.99999994,  0.70425642], dtype=float32)), (3, array([ 0.8828094 ,  0.89935482,  0.70425642,  0.99999994], dtype=float32))]\n"
>>>>>>> switch to env var, loop through texts
     ]
    }
   ],
   "source": [
    "sims = index[vec_lsi]\n",
    "print(list(enumerate(sims)))"
   ]
  },
  {
   "cell_type": "code",
   "execution_count": null,
   "metadata": {
    "collapsed": true
   },
   "outputs": [],
   "source": []
  }
 ],
 "metadata": {
  "kernelspec": {
<<<<<<< HEAD
   "display_name": "dkg",
   "language": "python",
   "name": "dkg"
=======
   "display_name": "Python 3",
   "language": "python",
   "name": "python3"
>>>>>>> switch to env var, loop through texts
  },
  "language_info": {
   "codemirror_mode": {
    "name": "ipython",
    "version": 3
   },
   "file_extension": ".py",
   "mimetype": "text/x-python",
   "name": "python",
   "nbconvert_exporter": "python",
   "pygments_lexer": "ipython3",
<<<<<<< HEAD
   "version": "3.6.0"
=======
   "version": "3.5.2"
>>>>>>> switch to env var, loop through texts
  }
 },
 "nbformat": 4,
 "nbformat_minor": 2
}
