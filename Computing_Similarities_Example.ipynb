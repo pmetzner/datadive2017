{
 "cells": [
  {
   "cell_type": "markdown",
   "metadata": {},
   "source": [
    "# Computing Similarities: An example\n",
    "\n",
    "The purpose of this notebook is to load word counts and compute cosine similarities. We will only load a few files."
   ]
  },
  {
   "cell_type": "code",
   "execution_count": 2,
   "metadata": {
    "collapsed": false,
    "deletable": true,
    "editable": true
   },
   "outputs": [],
   "source": [
    "from os import listdir\n",
    "\n",
    "from gensim import corpora, models, similarities\n",
    "import pandas as pd\n",
    "import re "
   ]
  },
  {
   "cell_type": "code",
   "execution_count": 3,
   "metadata": {
    "collapsed": true
   },
   "outputs": [],
   "source": [
    "home = '/Users/aliciahickey/Desktop/master/texts/'"
   ]
  },
  {
   "cell_type": "code",
   "execution_count": 4,
   "metadata": {
    "collapsed": false,
    "deletable": true,
    "editable": true
   },
   "outputs": [
    {
     "data": {
      "text/plain": [
       "['.DS_Store',\n",
       " 'extracted-texts',\n",
       " 'extracted-texts.tar',\n",
       " 'term-id-counts-min-2',\n",
       " 'term-id-counts-min-2.tar',\n",
       " 'termcounts-min-1.tar',\n",
       " 'termcounts-min-2-term-ids-map.txt',\n",
       " 'termcounts-min-2.tar',\n",
       " 'termcounts-min-3.tar',\n",
       " 'termcounts-min-5',\n",
       " 'termcounts-min-5.tar',\n",
       " 'termcounts-min-6.tar']"
      ]
     },
     "execution_count": 4,
     "metadata": {},
     "output_type": "execute_result"
    }
   ],
   "source": [
    "listdir(home)"
   ]
  },
  {
   "cell_type": "markdown",
   "metadata": {},
   "source": [
    "## Create a dictionary:"
   ]
  },
  {
   "cell_type": "code",
   "execution_count": 6,
   "metadata": {
    "collapsed": false
   },
   "outputs": [],
   "source": [
    "def make_dict(dict_file='termcounts-min-2-term-ids-map.txt', data_folder=home):\n",
    "    \"\"\"Create dictionary of unique terms and their IDs.\"\"\"\n",
    "   \n",
    "    with open(data_folder + dict_file, 'r') as f:\n",
    "        wdic = {} \n",
    "        for row in f.readlines():\n",
    "            if len(row.split(',')) == 2:  # this get rid of rows with 3 values i.e. numbers\n",
    "                (value, key) = row.split(',')\n",
    "                value = re.match('\\D', value)\n",
    "                if value:\n",
    "                    if len(value.string) > 2:\n",
    "                        wdic[int(key.rstrip())] = value.string\n",
    "    return wdic"
   ]
  },
  {
   "cell_type": "code",
   "execution_count": 8,
   "metadata": {
    "collapsed": true
   },
   "outputs": [],
   "source": [
    "wdic = make_dict()"
   ]
  },
  {
   "cell_type": "code",
   "execution_count": 9,
   "metadata": {
    "collapsed": false
   },
   "outputs": [
    {
     "data": {
      "text/plain": [
       "1324237"
      ]
     },
     "execution_count": 9,
     "metadata": {},
     "output_type": "execute_result"
    }
   ],
   "source": [
    "len(wdic)"
   ]
  },
  {
   "cell_type": "markdown",
   "metadata": {},
   "source": [
    "## Create the corpus"
   ]
  },
  {
   "cell_type": "code",
   "execution_count": 10,
   "metadata": {
    "collapsed": true
   },
   "outputs": [],
   "source": [
    "corpus_texts = listdir(home + 'term-id-counts-min-2/')"
   ]
  },
  {
   "cell_type": "code",
   "execution_count": 45,
   "metadata": {
    "collapsed": true
   },
   "outputs": [],
   "source": [
    "def transform_text(filename, word_dict=wdic):\n",
    "    \n",
    "    with open(filename, 'r') as f:\n",
    "\n",
    "        file = []  # initiate a list\n",
    "        for row in f.readlines():\n",
    "            if len(row.split(',')) == 2:  # this get rid of rows with 3 values i.e. numbers\n",
    "                row_val = row.split(',')\n",
    "                row_val[1] = int(row_val[1].rstrip())\n",
    "                row_val[0] = int(row_val[0])\n",
    "                file.append(tuple(row_val))\n",
    "    \n",
    "    text = [i for i in file if i[0] in word_dict]\n",
    "    \n",
    "    return text"
   ]
  },
  {
   "cell_type": "code",
   "execution_count": 49,
   "metadata": {
    "collapsed": false
   },
   "outputs": [],
   "source": [
    "text_0 = transform_text(home + 'term-id-counts-min-2/' + corpus_texts[1])"
   ]
  },
  {
   "cell_type": "code",
   "execution_count": 50,
   "metadata": {
    "collapsed": false
   },
   "outputs": [],
   "source": [
    "text_1 = transform_text(home + 'term-id-counts-min-2/' + corpus_texts[2])"
   ]
  },
  {
   "cell_type": "code",
   "execution_count": 59,
   "metadata": {
    "collapsed": false
   },
   "outputs": [],
   "source": [
    "corpus = [text_0, text_1]"
   ]
  },
  {
   "cell_type": "code",
   "execution_count": 60,
   "metadata": {
    "collapsed": true
   },
   "outputs": [],
   "source": [
    "tfidf = models.TfidfModel(corpus)"
   ]
  },
  {
   "cell_type": "code",
   "execution_count": 61,
   "metadata": {
    "collapsed": false
   },
   "outputs": [],
   "source": [
    "corpus_tfidf = tfidf[corpus]"
   ]
  },
  {
   "cell_type": "code",
   "execution_count": 64,
   "metadata": {
    "collapsed": false,
    "scrolled": false
   },
   "outputs": [],
   "source": [
    "# for doc in corpus_tfidf:\n",
    "#     print(doc)"
   ]
  },
  {
   "cell_type": "markdown",
   "metadata": {},
   "source": [
    "## Compute similarities:"
   ]
  },
  {
   "cell_type": "code",
   "execution_count": 65,
   "metadata": {
    "collapsed": false
   },
   "outputs": [],
   "source": [
    "lsi = models.LsiModel(corpus, id2word=wdic, num_topics=2)\n",
    "index = similarities.MatrixSimilarity(lsi[corpus])"
   ]
  },
  {
   "cell_type": "code",
   "execution_count": 67,
   "metadata": {
    "collapsed": true
   },
   "outputs": [],
   "source": [
    "vec_lsi = lsi[corpus[0]]"
   ]
  },
  {
   "cell_type": "code",
   "execution_count": 68,
   "metadata": {
    "collapsed": false
   },
   "outputs": [
    {
     "name": "stdout",
     "output_type": "stream",
     "text": [
      "[(0, 1.0), (1, 0.1939158)]\n"
     ]
    }
   ],
   "source": [
    "sims = index[vec_lsi]\n",
    "print(list(enumerate(sims)))"
   ]
  },
  {
   "cell_type": "code",
   "execution_count": null,
   "metadata": {
    "collapsed": true
   },
   "outputs": [],
   "source": []
  }
 ],
 "metadata": {
  "kernelspec": {
   "display_name": "dkg",
   "language": "python",
   "name": "dkg"
  },
  "language_info": {
   "codemirror_mode": {
    "name": "ipython",
    "version": 3
   },
   "file_extension": ".py",
   "mimetype": "text/x-python",
   "name": "python",
   "nbconvert_exporter": "python",
   "pygments_lexer": "ipython3",
   "version": "3.6.0"
  }
 },
 "nbformat": 4,
 "nbformat_minor": 2
}
