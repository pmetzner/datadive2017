{
 "cells": [
  {
   "cell_type": "markdown",
   "metadata": {},
   "source": [
    "# Computing Similarities: An example\n",
    "\n",
    "The purpose of this notebook is to load word counts and compute cosine similarities. We will only load a few files."
   ]
  },
  {
   "cell_type": "code",
   "execution_count": 1,
   "metadata": {
    "collapsed": false,
    "deletable": true,
    "editable": true
   },
   "outputs": [],
   "source": [
    "import os\n",
    "from os import listdir\n",
    "\n",
    "from gensim import corpora, models, similarities\n",
    "import pandas as pd\n",
    "import re "
   ]
  },
  {
   "cell_type": "code",
   "execution_count": 2,
   "metadata": {
    "collapsed": true
   },
   "outputs": [],
   "source": [
    "home = os.environ['DATADIVE']"
   ]
  },
  {
   "cell_type": "code",
   "execution_count": 3,
   "metadata": {
    "collapsed": false,
    "deletable": true,
    "editable": true
   },
   "outputs": [
    {
     "data": {
      "text/plain": [
       "['.DS_Store',\n",
       " 'extracted-texts.tar',\n",
       " 'term-counts-min-1.tar',\n",
       " 'term-id-counts-min-2',\n",
       " 'term-id-counts-min-2.tar',\n",
       " 'termcounts-min-1.tar',\n",
       " 'termcounts-min-2-term-ids-map.txt',\n",
       " 'termcounts-min-2.tar',\n",
       " 'termcounts-min-3.tar',\n",
       " 'termcounts-min-5.tar',\n",
       " 'termcounts-min-6.tar']"
      ]
     },
     "execution_count": 3,
     "metadata": {},
     "output_type": "execute_result"
    }
   ],
   "source": [
    "listdir(home)"
   ]
  },
  {
   "cell_type": "markdown",
   "metadata": {},
   "source": [
    "## Create a dictionary:"
   ]
  },
  {
   "cell_type": "code",
   "execution_count": 4,
   "metadata": {
    "collapsed": false
   },
   "outputs": [],
   "source": [
    "def make_dict(dict_file='termcounts-min-2-term-ids-map.txt', data_folder=home):\n",
    "    \"\"\"Create dictionary of unique terms and their IDs.\"\"\"\n",
    "   \n",
    "    with open(data_folder + dict_file, 'r') as f:\n",
    "        wdic = {} \n",
    "        for row in f.readlines():\n",
    "            if len(row.split(',')) == 2:  # this get rid of rows with 3 values i.e. numbers\n",
    "                (value, key) = row.split(',')\n",
    "                value = re.match('\\D', value)\n",
    "                if value:\n",
    "                    if len(value.string) > 2:\n",
    "                        wdic[int(key.rstrip())] = value.string\n",
    "    return wdic"
   ]
  },
  {
   "cell_type": "code",
   "execution_count": 5,
   "metadata": {
    "collapsed": true
   },
   "outputs": [],
   "source": [
    "wdic = make_dict()"
   ]
  },
  {
   "cell_type": "code",
   "execution_count": 6,
   "metadata": {
    "collapsed": false
   },
   "outputs": [
    {
     "data": {
      "text/plain": [
       "1324237"
      ]
     },
     "execution_count": 6,
     "metadata": {},
     "output_type": "execute_result"
    }
   ],
   "source": [
    "len(wdic)"
   ]
  },
  {
   "cell_type": "markdown",
   "metadata": {},
   "source": [
    "## Create the corpus"
   ]
  },
  {
   "cell_type": "code",
   "execution_count": 7,
   "metadata": {
    "collapsed": true
   },
   "outputs": [],
   "source": [
    "corpus_texts = listdir(home + 'term-id-counts-min-2/')"
   ]
  },
  {
   "cell_type": "code",
   "execution_count": 8,
   "metadata": {
    "collapsed": true
   },
   "outputs": [],
   "source": [
    "def transform_text(filename, word_dict=wdic):\n",
    "    \n",
    "    with open(filename, 'r') as f:\n",
    "\n",
    "        file = []  # initiate a list\n",
    "        for row in f.readlines():\n",
    "            if len(row.split(',')) == 2:  # this get rid of rows with 3 values i.e. numbers\n",
    "                row_val = row.split(',')\n",
    "                row_val[1] = int(row_val[1].rstrip())\n",
    "                row_val[0] = int(row_val[0])\n",
    "                file.append(tuple(row_val))\n",
    "    \n",
    "    text = [i for i in file if i[0] in word_dict]\n",
    "    \n",
    "    return text"
   ]
  },
  {
   "cell_type": "code",
   "execution_count": 9,
   "metadata": {
    "collapsed": false
   },
   "outputs": [],
   "source": [
    "corpus = []\n",
    "for text in corpus_texts[:4]:\n",
    "    corpus.append(transform_text(home + 'term-id-counts-min-2/' + text))"
   ]
  },
  {
   "cell_type": "code",
   "execution_count": 10,
   "metadata": {
    "collapsed": true
   },
   "outputs": [],
   "source": [
    "tfidf = models.TfidfModel(corpus)"
   ]
  },
  {
   "cell_type": "code",
   "execution_count": 11,
   "metadata": {
    "collapsed": false
   },
   "outputs": [],
   "source": [
    "corpus_tfidf = tfidf[corpus]"
   ]
  },
  {
   "cell_type": "code",
   "execution_count": 12,
   "metadata": {
    "collapsed": false,
    "scrolled": false
   },
   "outputs": [],
   "source": [
    "# for doc in corpus_tfidf:\n",
    "#     print(doc)"
   ]
  },
  {
   "cell_type": "markdown",
   "metadata": {},
   "source": [
    "## Compute similarities:"
   ]
  },
  {
   "cell_type": "code",
   "execution_count": 13,
   "metadata": {
    "collapsed": false
   },
   "outputs": [],
   "source": [
    "lsi = models.LsiModel(corpus, id2word=wdic, num_topics=2)\n",
    "index = similarities.MatrixSimilarity(lsi[corpus])"
   ]
  },
  {
   "cell_type": "code",
   "execution_count": 14,
   "metadata": {
    "collapsed": true
   },
   "outputs": [],
   "source": [
    "vec_lsi = lsi[corpus]"
   ]
  },
  {
   "cell_type": "code",
   "execution_count": 15,
   "metadata": {
    "collapsed": false
   },
   "outputs": [
    {
     "name": "stdout",
     "output_type": "stream",
     "text": [
      "[(0, array([ 1.        ,  0.58858323,  0.28824052,  0.8828094 ], dtype=float32)), (1, array([ 0.58858317,  1.        ,  0.94377851,  0.89935482], dtype=float32)), (2, array([ 0.28824052,  0.94377851,  0.99999994,  0.70425642], dtype=float32)), (3, array([ 0.8828094 ,  0.89935482,  0.70425642,  0.99999994], dtype=float32))]\n"
     ]
    }
   ],
   "source": [
    "sims = index[vec_lsi]\n",
    "print(list(enumerate(sims)))"
   ]
  },
  {
   "cell_type": "code",
   "execution_count": null,
   "metadata": {
    "collapsed": true
   },
   "outputs": [],
   "source": []
  }
 ],
 "metadata": {
  "kernelspec": {
   "display_name": "Python 3",
   "language": "python",
   "name": "python3"
  },
  "language_info": {
   "codemirror_mode": {
    "name": "ipython",
    "version": 3
   },
   "file_extension": ".py",
   "mimetype": "text/x-python",
   "name": "python",
   "nbconvert_exporter": "python",
   "pygments_lexer": "ipython3",
   "version": "3.5.2"
  }
 },
 "nbformat": 4,
 "nbformat_minor": 2
}
