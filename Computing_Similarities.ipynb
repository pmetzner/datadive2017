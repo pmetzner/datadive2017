{
 "cells": [
  {
   "cell_type": "markdown",
   "metadata": {},
   "source": [
    "# Computing Similarities: An example\n",
    "\n",
    "The purpose of this notebook is to load word counts and compute cosine similarities. We will only load a few files."
   ]
  },
  {
   "cell_type": "code",
   "execution_count": 50,
   "metadata": {
    "collapsed": false,
    "deletable": true,
    "editable": true
   },
   "outputs": [],
   "source": [
    "from os import listdir\n",
    "\n",
    "from gensim import corpora, models, similarities\n",
    "import re "
   ]
  },
  {
   "cell_type": "code",
   "execution_count": 51,
   "metadata": {
    "collapsed": false
   },
   "outputs": [
    {
     "data": {
      "text/plain": [
       "['shards.1',\n",
       " 'termcounts-min-2-term-ids-map.txt',\n",
       " 'extracted',\n",
       " 'termcounts-min-1.tar',\n",
       " 'termcounts-min-6.tar',\n",
       " 'matrix.pkl',\n",
       " 'shards.0.index.indptr.npy',\n",
       " 'termcounts-min-5.tar',\n",
       " 'shards.0.index.npy',\n",
       " 'shards.0',\n",
       " 'shards.0.index.data.npy',\n",
       " 'termcounts-min-3.tar',\n",
       " 'shards.0.index.indices.npy']"
      ]
     },
     "execution_count": 51,
     "metadata": {},
     "output_type": "execute_result"
    }
   ],
   "source": [
    "basepath = '/home/daniel/data/projects/datadive/data/texts/'\n",
    "subfolderfiles = 'extracted/'\n",
    "shards_prefix  = 'shards'\n",
    "dictfn = 'termcounts-min-2-term-ids-map.txt'\n",
    "matrixfn = 'matrix.pkl'\n",
    "listdir(basepath)"
   ]
  },
  {
   "cell_type": "markdown",
   "metadata": {},
   "source": [
    "## Create a dictionary:"
   ]
  },
  {
   "cell_type": "code",
   "execution_count": 52,
   "metadata": {
    "collapsed": false
   },
   "outputs": [],
   "source": [
    "def make_dict(dict_file=dictfn, data_folder=basepath):\n",
    "    \"\"\"Create dictionary of unique terms and their IDs.\"\"\"\n",
    "   \n",
    "    with open(data_folder + dict_file, 'r') as f:\n",
    "        wdic = {} \n",
    "        for row in f.readlines():\n",
    "            if len(row.split(',')) == 2:  # this get rid of rows with 3 values i.e. numbers\n",
    "                (value, key) = row.split(',')\n",
    "                value = re.match('\\D', value)\n",
    "                if value:\n",
    "                    if len(value.string) > 2:\n",
    "                        wdic[int(key.rstrip())] = value.string\n",
    "    return wdic"
   ]
  },
  {
   "cell_type": "code",
   "execution_count": 53,
   "metadata": {
    "collapsed": false
   },
   "outputs": [],
   "source": [
    "wdic = make_dict()"
   ]
  },
  {
   "cell_type": "code",
   "execution_count": 54,
   "metadata": {
    "collapsed": false
   },
   "outputs": [
    {
     "data": {
      "text/plain": [
       "1324237"
      ]
     },
     "execution_count": 54,
     "metadata": {},
     "output_type": "execute_result"
    }
   ],
   "source": [
    "len(wdic)"
   ]
  },
  {
   "cell_type": "markdown",
   "metadata": {},
   "source": [
    "## Create the corpus"
   ]
  },
  {
   "cell_type": "code",
   "execution_count": 55,
   "metadata": {
    "collapsed": false
   },
   "outputs": [
    {
     "data": {
      "text/plain": [
       "['termIdCounts-101024_cappelletti2016_markiert.txt',\n",
       " 'termIdCounts-28414_tsivian2012.txt',\n",
       " 'termIdCounts-2047_bandera2007.txt']"
      ]
     },
     "execution_count": 55,
     "metadata": {},
     "output_type": "execute_result"
    }
   ],
   "source": [
    "corpus_texts = listdir(basepath + subfolderfiles)\n",
    "corpus_texts[:3]"
   ]
  },
  {
   "cell_type": "code",
   "execution_count": 56,
   "metadata": {
    "collapsed": true
   },
   "outputs": [],
   "source": [
    "def transform_text(filename, word_dict=wdic):\n",
    "    \n",
    "    with open(filename, 'r') as f:\n",
    "\n",
    "        file = []  # initiate a list\n",
    "        for row in f.readlines():\n",
    "            if len(row.split(',')) == 2:  # this get rid of rows with 3 values i.e. numbers\n",
    "                row_val = row.split(',')\n",
    "                row_val[1] = int(row_val[1].rstrip())\n",
    "                row_val[0] = int(row_val[0])\n",
    "                file.append(tuple(row_val))\n",
    "    \n",
    "    text = [i for i in file if i[0] in word_dict]\n",
    "    \n",
    "\n",
    "    return text"
   ]
  },
  {
   "cell_type": "code",
   "execution_count": 57,
   "metadata": {
    "collapsed": false
   },
   "outputs": [],
   "source": [
    "corpus = []\n",
    "errcount = 0\n",
    "for ctext in corpus_texts:\n",
    "    try:\n",
    "        corpus.append(transform_text(basepath + subfolderfiles + ctext))\n",
    "    except UnicodeDecodeError:\n",
    "        errcount += 1\n"
   ]
  },
  {
   "cell_type": "code",
   "execution_count": 58,
   "metadata": {
    "collapsed": false
   },
   "outputs": [],
   "source": [
    "import pickle\n",
    "#with open(basepath+matrixfn, 'wb') as f:\n",
    "#    pickle.dump(corpus, f)\n",
    "corpus = pickle.load(open(basepath+matrixfn,'rb'))\n",
    "    "
   ]
  },
  {
   "cell_type": "code",
   "execution_count": 59,
   "metadata": {
    "collapsed": true
   },
   "outputs": [],
   "source": [
    "tfidf = models.TfidfModel(corpus)"
   ]
  },
  {
   "cell_type": "code",
   "execution_count": 60,
   "metadata": {
    "collapsed": false
   },
   "outputs": [],
   "source": [
    "corpus_tfidf = tfidf[corpus]"
   ]
  },
  {
   "cell_type": "code",
   "execution_count": 61,
   "metadata": {
    "collapsed": false,
    "scrolled": false
   },
   "outputs": [],
   "source": [
    "index = similarities.Similarity(basepath + shards_prefix, corpus_tfidf, len(wdic))\n",
    "#index = similarities.MatrixSimilarity(corpus_tfidf)\n",
    "\n",
    "#lsi = models.LsiModel(corpus, id2word=wdic, num_topics=2)\n",
    "#index = similarities.MatrixSimilarity(lsi[corpus])"
   ]
  },
  {
   "cell_type": "code",
   "execution_count": null,
   "metadata": {
    "collapsed": false
   },
   "outputs": [],
   "source": [
    "index.num_best = 10\n",
    "sims = index[corpus_tfidf[0]]\n",
    "print(list(enumerate(sims)))"
   ]
  },
  {
   "cell_type": "markdown",
   "metadata": {},
   "source": [
    "## Compute similarities:"
   ]
  },
  {
   "cell_type": "code",
   "execution_count": 65,
   "metadata": {
    "collapsed": false
   },
   "outputs": [],
   "source": [
    "lsi = models.LsiModel(corpus, id2word=wdic, num_topics=2)\n",
    "index = similarities.MatrixSimilarity(lsi[corpus])"
   ]
  },
  {
   "cell_type": "code",
   "execution_count": 24,
   "metadata": {
    "collapsed": false
   },
   "outputs": [
    {
     "ename": "NameError",
     "evalue": "name 'lsi' is not defined",
     "output_type": "error",
     "traceback": [
      "\u001b[0;31m---------------------------------------------------------------------------\u001b[0m",
      "\u001b[0;31mNameError\u001b[0m                                 Traceback (most recent call last)",
      "\u001b[0;32m<ipython-input-24-677518637c43>\u001b[0m in \u001b[0;36m<module>\u001b[0;34m()\u001b[0m\n\u001b[0;32m----> 1\u001b[0;31m \u001b[0mvec_lsi\u001b[0m \u001b[0;34m=\u001b[0m \u001b[0mlsi\u001b[0m\u001b[0;34m[\u001b[0m\u001b[0mcorpus\u001b[0m\u001b[0;34m[\u001b[0m\u001b[0;36m0\u001b[0m\u001b[0;34m]\u001b[0m\u001b[0;34m]\u001b[0m\u001b[0;34m\u001b[0m\u001b[0m\n\u001b[0m",
      "\u001b[0;31mNameError\u001b[0m: name 'lsi' is not defined"
     ]
    }
   ],
   "source": [
    "vec_lsi = lsi[corpus[0]]"
   ]
  },
  {
   "cell_type": "code",
   "execution_count": 68,
   "metadata": {
    "collapsed": false
   },
   "outputs": [
    {
     "name": "stdout",
     "output_type": "stream",
     "text": [
      "[(0, 1.0), (1, 0.1939158)]\n"
     ]
    }
   ],
   "source": [
    "sims = index[vec_lsi]\n",
    "print(list(enumerate(sims)))"
   ]
  },
  {
   "cell_type": "code",
   "execution_count": null,
   "metadata": {
    "collapsed": true
   },
   "outputs": [],
   "source": []
  }
 ],
 "metadata": {
  "kernelspec": {
   "display_name": "Python [py35]",
   "language": "python",
   "name": "Python [py35]"
  },
  "language_info": {
   "codemirror_mode": {
    "name": "ipython",
    "version": 3
   },
   "file_extension": ".py",
   "mimetype": "text/x-python",
   "name": "python",
   "nbconvert_exporter": "python",
   "pygments_lexer": "ipython3",
   "version": "3.5.2"
  }
 },
 "nbformat": 4,
 "nbformat_minor": 2
}
