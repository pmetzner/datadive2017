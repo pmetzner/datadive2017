{
 "cells": [
  {
   "cell_type": "markdown",
   "metadata": {},
   "source": [
    "# Computing Similarities: An example\n",
    "\n",
    "The purpose of this notebook is to load word counts and compute cosine similarities. We will only load a few files."
   ]
  },
  {
   "cell_type": "code",
   "execution_count": 98,
   "metadata": {
    "collapsed": false,
    "deletable": true,
    "editable": true
   },
   "outputs": [],
   "source": [
    "from os import listdir\n",
    "from gensim import corpora, models, similarities\n",
    "import re \n",
    "import pickle\n",
    "\n",
    "basepath = '/home/daniel/data/projects/datadive/data/texts/'\n",
    "subfolderfiles = 'extracted/'\n",
    "dictfn = 'termcounts-min-2-term-ids-map.txt'\n",
    "recompute = True\n",
    "\n",
    "matrixfn = 'matrix.pkl'\n",
    "dictfn   = 'dict.pkl'\n",
    "corpusfn = 'corpus.pkl'\n",
    "lsifn = 'lsi.pkl'\n",
    "indexfn = 'index.pkl'\n",
    "shards_prefix  = 'shards'\n"
   ]
  },
  {
   "cell_type": "markdown",
   "metadata": {},
   "source": [
    "## Create a dictionary:"
   ]
  },
  {
   "cell_type": "code",
   "execution_count": 85,
   "metadata": {
    "collapsed": false
   },
   "outputs": [],
   "source": [
    "def make_dict(dict_file=dictfn, data_folder=basepath):\n",
    "    with open(data_folder + dict_file, 'r') as f:\n",
    "        wdic = {} \n",
    "        for row in f.readlines():\n",
    "            if len(row.split(',')) == 2:  # this get rid of rows with 3 values i.e. numbers\n",
    "                (value, key) = row.split(',')\n",
    "                value = re.match('\\D', value)\n",
    "                if value:\n",
    "                    if len(value.string) > 2:\n",
    "                        ikey = int(key.rstrip())\n",
    "                        wdic[ikey] = value.string\n",
    "    return wdic\n",
    "\n",
    "def transform_text(filename, word_dict=wdic):\n",
    "    with open(filename, 'r') as f:\n",
    "        file = []  # initiate a list\n",
    "        for row in f.readlines():\n",
    "            if len(row.split(',')) == 2:  # this get rid of rows with 3 values i.e. numbers\n",
    "                row_val = row.split(',')\n",
    "                row_val[1] = int(row_val[1].rstrip())\n",
    "                row_val[0] = int(row_val[0])\n",
    "                file.append(tuple(row_val))\n",
    "    \n",
    "    text = [i for i in file if i[0] in word_dict]\n",
    "    return text"
   ]
  },
  {
   "cell_type": "markdown",
   "metadata": {},
   "source": [
    "## Create the corpus"
   ]
  },
  {
   "cell_type": "code",
   "execution_count": 87,
   "metadata": {
    "collapsed": false
   },
   "outputs": [
    {
     "data": {
      "text/plain": [
       "['termIdCounts-101024_cappelletti2016_markiert.txt',\n",
       " 'termIdCounts-28414_tsivian2012.txt',\n",
       " 'termIdCounts-2047_bandera2007.txt']"
      ]
     },
     "execution_count": 87,
     "metadata": {},
     "output_type": "execute_result"
    }
   ],
   "source": [
    "if recompute:\n",
    "    wdic = make_dict()\n",
    "    corpus_texts = listdir(basepath + subfolderfiles)\n",
    "    corpus = []\n",
    "    errcount = 0\n",
    "    for ctext in corpus_texts:\n",
    "        try:\n",
    "            corpus.append(transform_text(basepath + subfolderfiles + ctext))\n",
    "        except UnicodeDecodeError:\n",
    "            errcount += 1\n",
    "    with open(basepath+matrixfn, 'wb') as f:\n",
    "        pickle.dump(corpus, f)\n",
    "        \n",
    "    lsi = models.LsiModel(corpus, id2word=wdic, num_topics=256)\n",
    "    index = similarities.Ma\n",
    "    \n",
    "    with open(basepath+indexfn, 'wb') as f:\n",
    "        pickle.dump(index, f)\n",
    "    with open(basepath+corpusfn, 'wb') as f:\n",
    "        pickle.dump(corpus, f)\n",
    "    with open(basepath+lsifn, 'wb') as f:\n",
    "        pickle.dump(lsi, f)\n",
    "else:\n",
    "    corpus = pickle.load(open(basepath+corpusfn,'rb'))\n",
    "    lsi = pickle.load(open(basepath+lsifn,'rb'))\n",
    "    index = pickle.load(open(basepath+indexfn,'rb'))\n",
    "    \n",
    "\n",
    "    \n",
    "sims = index[lsi[corpus[0]]]\n",
    "print(list(enumerate(sims)))"
   ]
  }
 ],
 "metadata": {
  "kernelspec": {
   "display_name": "Python [py35]",
   "language": "python",
   "name": "Python [py35]"
  },
  "language_info": {
   "codemirror_mode": {
    "name": "ipython",
    "version": 3
   },
   "file_extension": ".py",
   "mimetype": "text/x-python",
   "name": "python",
   "nbconvert_exporter": "python",
   "pygments_lexer": "ipython3",
   "version": "3.5.2"
  }
 },
 "nbformat": 4,
 "nbformat_minor": 2
}
