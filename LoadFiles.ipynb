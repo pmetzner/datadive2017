{
 "cells": [
  {
   "cell_type": "code",
   "execution_count": 2,
   "metadata": {
    "collapsed": false,
    "deletable": true,
    "editable": true
   },
   "outputs": [],
   "source": [
    "import os\n",
    "import argparse\n",
    "import Computing_Similarities_Example as sims \n",
    "\n",
    "def loadFileDicts (data_folder) :\n",
    "     fileList = []\n",
    "     \n",
    "#     args = argparse.ArgumentParser(prog='test', description='a simple text processor')\n",
    "#     args.add_argument('--folder',required=True,type=str,help=\"provide a working dir\")\n",
    "     \n",
    "#     parser = args.parse_args()\n",
    "#parser.folder\n",
    "     if os.path.exists(data_folder) :\n",
    "          fileList = os.listdir(data_folder)\n",
    "     \n",
    "     return fileList\n",
    "\n",
    "if __name__ == '__main__':\n",
    "     data_folder = ''\n",
    "     loadFileDicts (data_folder)"
   ]
  },
  {
   "cell_type": "code",
   "execution_count": null,
   "metadata": {
    "collapsed": true,
    "deletable": true,
    "editable": true
   },
   "outputs": [],
   "source": []
  }
 ],
 "metadata": {
  "kernelspec": {
   "display_name": "Python 3",
   "language": "python",
   "name": "python3"
  },
  "language_info": {
   "codemirror_mode": {
    "name": "ipython",
    "version": 3
   },
   "file_extension": ".py",
   "mimetype": "text/x-python",
   "name": "python",
   "nbconvert_exporter": "python",
   "pygments_lexer": "ipython3",
   "version": "3.6.0"
  }
 },
 "nbformat": 4,
 "nbformat_minor": 2
}
